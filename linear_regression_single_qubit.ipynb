{
  "nbformat": 4,
  "nbformat_minor": 0,
  "metadata": {
    "colab": {
      "provenance": []
    },
    "kernelspec": {
      "name": "python3",
      "display_name": "Python 3"
    }
  },
  "cells": [
    {
      "cell_type": "markdown",
      "metadata": {
        "id": "kTjlnuucgT6h"
      },
      "source": [
        "**Linear Regression using Angle Embedding and Single Qubit with qml.qnn.KerasLayer**\n",
        "\n",
        "Created by Hemant Gahankari , hemant.gahankari@gmail.com\n",
        "\n",
        "This example is created to explain how to create a Hybrid Neural Network (Mix of Classical and Quantum Layer) and train it. \n",
        "\n",
        "The data set consists of a temprature readings in Degree Centigrade and corresponding Fahrenheit. \n",
        "\n",
        "Objective is to train a neural network to predict Fahrenheit value given Deg Centigrade value.\n"
      ]
    },
    {
      "cell_type": "code",
      "metadata": {
        "id": "aM1wP0hIfwSM",
        "outputId": "d699106e-51ff-4058-c3af-b05153b47f67",
        "colab": {
          "base_uri": "https://localhost:8080/"
        }
      },
      "source": [
        "!pip install keras-metrics"
      ],
      "execution_count": null,
      "outputs": [
        {
          "output_type": "stream",
          "text": [
            "Collecting keras-metrics\n",
            "  Downloading https://files.pythonhosted.org/packages/32/c9/a87420da8e73de944e63a8e9cdcfb1f03ca31a7c4cdcdbd45d2cdf13275a/keras_metrics-1.1.0-py2.py3-none-any.whl\n",
            "Requirement already satisfied: Keras>=2.1.5 in /usr/local/lib/python3.6/dist-packages (from keras-metrics) (2.4.3)\n",
            "Requirement already satisfied: scipy>=0.14 in /usr/local/lib/python3.6/dist-packages (from Keras>=2.1.5->keras-metrics) (1.4.1)\n",
            "Requirement already satisfied: pyyaml in /usr/local/lib/python3.6/dist-packages (from Keras>=2.1.5->keras-metrics) (3.13)\n",
            "Requirement already satisfied: h5py in /usr/local/lib/python3.6/dist-packages (from Keras>=2.1.5->keras-metrics) (2.10.0)\n",
            "Requirement already satisfied: numpy>=1.9.1 in /usr/local/lib/python3.6/dist-packages (from Keras>=2.1.5->keras-metrics) (1.18.5)\n",
            "Requirement already satisfied: six in /usr/local/lib/python3.6/dist-packages (from h5py->Keras>=2.1.5->keras-metrics) (1.15.0)\n",
            "Installing collected packages: keras-metrics\n",
            "Successfully installed keras-metrics-1.1.0\n"
          ],
          "name": "stdout"
        }
      ]
    },
    {
      "cell_type": "code",
      "metadata": {
        "id": "92g74sROhVK0",
        "outputId": "859c633f-f963-4a2c-d740-3423361563e9",
        "colab": {
          "base_uri": "https://localhost:8080/"
        }
      },
      "source": [
        "!pip install pennylane"
      ],
      "execution_count": null,
      "outputs": [
        {
          "output_type": "stream",
          "text": [
            "Collecting pennylane\n",
            "\u001b[?25l  Downloading https://files.pythonhosted.org/packages/47/7b/ebe11ec7ec45882cee379ea2e6026a1452205575b6aca3bd61a8b256f373/PennyLane-0.12.0-py3-none-any.whl (401kB)\n",
            "\r\u001b[K     |▉                               | 10kB 17.3MB/s eta 0:00:01\r\u001b[K     |█▋                              | 20kB 1.7MB/s eta 0:00:01\r\u001b[K     |██▌                             | 30kB 2.2MB/s eta 0:00:01\r\u001b[K     |███▎                            | 40kB 2.4MB/s eta 0:00:01\r\u001b[K     |████                            | 51kB 1.9MB/s eta 0:00:01\r\u001b[K     |█████                           | 61kB 2.2MB/s eta 0:00:01\r\u001b[K     |█████▊                          | 71kB 2.5MB/s eta 0:00:01\r\u001b[K     |██████▌                         | 81kB 2.6MB/s eta 0:00:01\r\u001b[K     |███████▍                        | 92kB 2.8MB/s eta 0:00:01\r\u001b[K     |████████▏                       | 102kB 2.7MB/s eta 0:00:01\r\u001b[K     |█████████                       | 112kB 2.7MB/s eta 0:00:01\r\u001b[K     |█████████▉                      | 122kB 2.7MB/s eta 0:00:01\r\u001b[K     |██████████▋                     | 133kB 2.7MB/s eta 0:00:01\r\u001b[K     |███████████▍                    | 143kB 2.7MB/s eta 0:00:01\r\u001b[K     |████████████▎                   | 153kB 2.7MB/s eta 0:00:01\r\u001b[K     |█████████████                   | 163kB 2.7MB/s eta 0:00:01\r\u001b[K     |█████████████▉                  | 174kB 2.7MB/s eta 0:00:01\r\u001b[K     |██████████████▊                 | 184kB 2.7MB/s eta 0:00:01\r\u001b[K     |███████████████▌                | 194kB 2.7MB/s eta 0:00:01\r\u001b[K     |████████████████▎               | 204kB 2.7MB/s eta 0:00:01\r\u001b[K     |█████████████████▏              | 215kB 2.7MB/s eta 0:00:01\r\u001b[K     |██████████████████              | 225kB 2.7MB/s eta 0:00:01\r\u001b[K     |██████████████████▊             | 235kB 2.7MB/s eta 0:00:01\r\u001b[K     |███████████████████▋            | 245kB 2.7MB/s eta 0:00:01\r\u001b[K     |████████████████████▍           | 256kB 2.7MB/s eta 0:00:01\r\u001b[K     |█████████████████████▏          | 266kB 2.7MB/s eta 0:00:01\r\u001b[K     |██████████████████████          | 276kB 2.7MB/s eta 0:00:01\r\u001b[K     |██████████████████████▉         | 286kB 2.7MB/s eta 0:00:01\r\u001b[K     |███████████████████████▋        | 296kB 2.7MB/s eta 0:00:01\r\u001b[K     |████████████████████████▌       | 307kB 2.7MB/s eta 0:00:01\r\u001b[K     |█████████████████████████▎      | 317kB 2.7MB/s eta 0:00:01\r\u001b[K     |██████████████████████████      | 327kB 2.7MB/s eta 0:00:01\r\u001b[K     |███████████████████████████     | 337kB 2.7MB/s eta 0:00:01\r\u001b[K     |███████████████████████████▊    | 348kB 2.7MB/s eta 0:00:01\r\u001b[K     |████████████████████████████▌   | 358kB 2.7MB/s eta 0:00:01\r\u001b[K     |█████████████████████████████▍  | 368kB 2.7MB/s eta 0:00:01\r\u001b[K     |██████████████████████████████▏ | 378kB 2.7MB/s eta 0:00:01\r\u001b[K     |███████████████████████████████ | 389kB 2.7MB/s eta 0:00:01\r\u001b[K     |███████████████████████████████▉| 399kB 2.7MB/s eta 0:00:01\r\u001b[K     |████████████████████████████████| 409kB 2.7MB/s \n",
            "\u001b[?25hRequirement already satisfied: toml in /usr/local/lib/python3.6/dist-packages (from pennylane) (0.10.1)\n",
            "Collecting appdirs\n",
            "  Downloading https://files.pythonhosted.org/packages/3b/00/2344469e2084fb287c2e0b57b72910309874c3245463acd6cf5e3db69324/appdirs-1.4.4-py2.py3-none-any.whl\n",
            "Requirement already satisfied: autograd in /usr/local/lib/python3.6/dist-packages (from pennylane) (1.3)\n",
            "Requirement already satisfied: scipy in /usr/local/lib/python3.6/dist-packages (from pennylane) (1.4.1)\n",
            "Requirement already satisfied: numpy in /usr/local/lib/python3.6/dist-packages (from pennylane) (1.18.5)\n",
            "Collecting semantic-version==2.6\n",
            "  Downloading https://files.pythonhosted.org/packages/28/be/3a7241d731ba89063780279a5433f5971c1cf41735b64a9f874b7c3ff995/semantic_version-2.6.0-py3-none-any.whl\n",
            "Requirement already satisfied: networkx in /usr/local/lib/python3.6/dist-packages (from pennylane) (2.5)\n",
            "Requirement already satisfied: future>=0.15.2 in /usr/local/lib/python3.6/dist-packages (from autograd->pennylane) (0.16.0)\n",
            "Requirement already satisfied: decorator>=4.3.0 in /usr/local/lib/python3.6/dist-packages (from networkx->pennylane) (4.4.2)\n",
            "Installing collected packages: appdirs, semantic-version, pennylane\n",
            "Successfully installed appdirs-1.4.4 pennylane-0.12.0 semantic-version-2.6.0\n"
          ],
          "name": "stdout"
        }
      ]
    },
    {
      "cell_type": "markdown",
      "metadata": {
        "id": "IKY81DzEiB15"
      },
      "source": [
        "Here we are creating a single Qubit to represent one feature and encoding it using AngleEmbedding Template. First we create device, then qnode. In qnode we have a quantum function , where in we accept inputs on one wire (qubit) in thsi case.\n",
        "\n",
        "StronglyEntanglingLayers allows us to train Quantum Layer using parameters. Keras will create weights and pass it to our qnode and in turn to StronglyEntanglingLayers. A single StronglyEntanglingLayers can have multiple repeated layers. Each layer has three trainiable parameters that can be adjusted. The shape of the weights is hence [layers, no of qubits, 3]. \n",
        "\n",
        "For predicted output we use single neuron Dense Layer with linear activation.\n",
        "\n",
        "Since we have a linear regression problem selected loss type  is mean squared error."
      ]
    },
    {
      "cell_type": "code",
      "metadata": {
        "id": "1IgY1wjFhkFt"
      },
      "source": [
        "import pennylane as qml\n",
        "import tensorflow as tf\n",
        "import numpy as np\n",
        "\n",
        "import keras_metrics\n",
        "import matplotlib.pyplot as plt\n",
        "\n",
        "n_qubits = 1\n",
        "layers = 3\n",
        "data_dimension = 1\n",
        "dev = qml.device(\"default.qubit\", wires=n_qubits)\n",
        "\n",
        "\n",
        "@qml.qnode(dev)\n",
        "def qnode(inputs, weights):\n",
        "    qml.templates.AngleEmbedding(inputs, wires=range(n_qubits))\n",
        "    qml.templates.StronglyEntanglingLayers(weights, wires=range(n_qubits))\n",
        "    return [qml.expval(qml.PauliZ(i)) for i in range(n_qubits)]\n",
        "\n",
        "\n",
        "weight_shapes = {\"weights\": (layers, n_qubits,3)}\n",
        "\n",
        "qlayer = qml.qnn.KerasLayer(qnode, weight_shapes, output_dim=n_qubits)\n",
        "clayer1 = tf.keras.layers.Dense(n_qubits, activation='relu')\n",
        "clayer2 = tf.keras.layers.Dense(data_dimension, activation=\"linear\")\n",
        "model = tf.keras.models.Sequential([clayer1,qlayer,clayer2])\n",
        "\n",
        "opt = tf.keras.optimizers.Adam(learning_rate=0.01)\n",
        "model.compile(opt, loss='mse')"
      ],
      "execution_count": null,
      "outputs": []
    },
    {
      "cell_type": "markdown",
      "metadata": {
        "id": "6VQmAe-BkJvY"
      },
      "source": [
        "We create a very simple dataset here and normalise it."
      ]
    },
    {
      "cell_type": "code",
      "metadata": {
        "id": "0EgHU6c080fl"
      },
      "source": [
        "from sklearn.preprocessing import MinMaxScaler\n",
        "\n",
        "X = np.array([0, 8, 15, 22,  38],  dtype=np.float32)\n",
        "Y = np.array([32, 46, 59, 72, 100],  dtype=np.float32)\n",
        "\n",
        "X = X.reshape((len(X), 1))\n",
        "Y = Y.reshape((len(Y), 1))\n",
        "\n",
        "scale_x = MinMaxScaler()\n",
        "x = scale_x.fit_transform(X)\n",
        "scale_y = MinMaxScaler()\n",
        "y = scale_y.fit_transform(Y)"
      ],
      "execution_count": null,
      "outputs": []
    },
    {
      "cell_type": "code",
      "metadata": {
        "id": "-KgtsgXTLEHZ",
        "outputId": "ea2e0e78-5264-4136-86d7-8bf4efbb2d5b",
        "colab": {
          "base_uri": "https://localhost:8080/"
        }
      },
      "source": [
        "x"
      ],
      "execution_count": null,
      "outputs": [
        {
          "output_type": "execute_result",
          "data": {
            "text/plain": [
              "array([[0.        ],\n",
              "       [0.21052632],\n",
              "       [0.39473686],\n",
              "       [0.57894737],\n",
              "       [1.        ]], dtype=float32)"
            ]
          },
          "metadata": {
            "tags": []
          },
          "execution_count": 41
        }
      ]
    },
    {
      "cell_type": "code",
      "metadata": {
        "id": "vGAS1fxuLjMT",
        "outputId": "9ee3c3d5-8121-4e89-8136-f3f82ddd116b",
        "colab": {
          "base_uri": "https://localhost:8080/"
        }
      },
      "source": [
        "y"
      ],
      "execution_count": null,
      "outputs": [
        {
          "output_type": "execute_result",
          "data": {
            "text/plain": [
              "array([[0.        ],\n",
              "       [0.20588234],\n",
              "       [0.3970588 ],\n",
              "       [0.5882354 ],\n",
              "       [1.        ]], dtype=float32)"
            ]
          },
          "metadata": {
            "tags": []
          },
          "execution_count": 42
        }
      ]
    },
    {
      "cell_type": "markdown",
      "metadata": {
        "id": "NDBRdJOkkalf"
      },
      "source": [
        "Here we training the combined Hybrid Model.   \n"
      ]
    },
    {
      "cell_type": "code",
      "metadata": {
        "id": "3omX4Oge6leP",
        "outputId": "511acb9c-76d7-48ed-b512-cb2a1defd70d",
        "colab": {
          "base_uri": "https://localhost:8080/"
        }
      },
      "source": [
        "history = model.fit(x, y, epochs=50, batch_size=5)\n"
      ],
      "execution_count": null,
      "outputs": [
        {
          "output_type": "stream",
          "text": [
            "Epoch 1/50\n",
            "1/1 [==============================] - 0s 1ms/step - loss: 4.4204e-04\n",
            "Epoch 2/50\n",
            "1/1 [==============================] - 0s 1ms/step - loss: 4.3959e-04\n",
            "Epoch 3/50\n",
            "1/1 [==============================] - 0s 1ms/step - loss: 4.3569e-04\n",
            "Epoch 4/50\n",
            "1/1 [==============================] - 0s 1ms/step - loss: 4.3074e-04\n",
            "Epoch 5/50\n",
            "1/1 [==============================] - 0s 1ms/step - loss: 4.2532e-04\n",
            "Epoch 6/50\n",
            "1/1 [==============================] - 0s 1ms/step - loss: 4.1996e-04\n",
            "Epoch 7/50\n",
            "1/1 [==============================] - 0s 1ms/step - loss: 4.1511e-04\n",
            "Epoch 8/50\n",
            "1/1 [==============================] - 0s 1ms/step - loss: 4.1107e-04\n",
            "Epoch 9/50\n",
            "1/1 [==============================] - 0s 1ms/step - loss: 4.0794e-04\n",
            "Epoch 10/50\n",
            "1/1 [==============================] - 0s 1ms/step - loss: 4.0566e-04\n",
            "Epoch 11/50\n",
            "1/1 [==============================] - 0s 1ms/step - loss: 4.0401e-04\n",
            "Epoch 12/50\n",
            "1/1 [==============================] - 0s 1ms/step - loss: 4.0275e-04\n",
            "Epoch 13/50\n",
            "1/1 [==============================] - 0s 1ms/step - loss: 4.0158e-04\n",
            "Epoch 14/50\n",
            "1/1 [==============================] - 0s 1ms/step - loss: 4.0028e-04\n",
            "Epoch 15/50\n",
            "1/1 [==============================] - 0s 1ms/step - loss: 3.9867e-04\n",
            "Epoch 16/50\n",
            "1/1 [==============================] - 0s 1ms/step - loss: 3.9670e-04\n",
            "Epoch 17/50\n",
            "1/1 [==============================] - 0s 2ms/step - loss: 3.9438e-04\n",
            "Epoch 18/50\n",
            "1/1 [==============================] - 0s 1ms/step - loss: 3.9178e-04\n",
            "Epoch 19/50\n",
            "1/1 [==============================] - 0s 1ms/step - loss: 3.8904e-04\n",
            "Epoch 20/50\n",
            "1/1 [==============================] - 0s 1ms/step - loss: 3.8629e-04\n",
            "Epoch 21/50\n",
            "1/1 [==============================] - 0s 2ms/step - loss: 3.8363e-04\n",
            "Epoch 22/50\n",
            "1/1 [==============================] - 0s 1ms/step - loss: 3.8116e-04\n",
            "Epoch 23/50\n",
            "1/1 [==============================] - 0s 1ms/step - loss: 3.7891e-04\n",
            "Epoch 24/50\n",
            "1/1 [==============================] - 0s 1ms/step - loss: 3.7687e-04\n",
            "Epoch 25/50\n",
            "1/1 [==============================] - 0s 2ms/step - loss: 3.7500e-04\n",
            "Epoch 26/50\n",
            "1/1 [==============================] - 0s 1ms/step - loss: 3.7324e-04\n",
            "Epoch 27/50\n",
            "1/1 [==============================] - 0s 2ms/step - loss: 3.7152e-04\n",
            "Epoch 28/50\n",
            "1/1 [==============================] - 0s 2ms/step - loss: 3.6979e-04\n",
            "Epoch 29/50\n",
            "1/1 [==============================] - 0s 1ms/step - loss: 3.6799e-04\n",
            "Epoch 30/50\n",
            "1/1 [==============================] - 0s 1ms/step - loss: 3.6612e-04\n",
            "Epoch 31/50\n",
            "1/1 [==============================] - 0s 1ms/step - loss: 3.6417e-04\n",
            "Epoch 32/50\n",
            "1/1 [==============================] - 0s 1ms/step - loss: 3.6216e-04\n",
            "Epoch 33/50\n",
            "1/1 [==============================] - 0s 1ms/step - loss: 3.6013e-04\n",
            "Epoch 34/50\n",
            "1/1 [==============================] - 0s 1ms/step - loss: 3.5809e-04\n",
            "Epoch 35/50\n",
            "1/1 [==============================] - 0s 1ms/step - loss: 3.5610e-04\n",
            "Epoch 36/50\n",
            "1/1 [==============================] - 0s 1ms/step - loss: 3.5415e-04\n",
            "Epoch 37/50\n",
            "1/1 [==============================] - 0s 1ms/step - loss: 3.5227e-04\n",
            "Epoch 38/50\n",
            "1/1 [==============================] - 0s 1ms/step - loss: 3.5044e-04\n",
            "Epoch 39/50\n",
            "1/1 [==============================] - 0s 1ms/step - loss: 3.4867e-04\n",
            "Epoch 40/50\n",
            "1/1 [==============================] - 0s 1ms/step - loss: 3.4692e-04\n",
            "Epoch 41/50\n",
            "1/1 [==============================] - 0s 2ms/step - loss: 3.4520e-04\n",
            "Epoch 42/50\n",
            "1/1 [==============================] - 0s 1ms/step - loss: 3.4348e-04\n",
            "Epoch 43/50\n",
            "1/1 [==============================] - 0s 1ms/step - loss: 3.4175e-04\n",
            "Epoch 44/50\n",
            "1/1 [==============================] - 0s 1ms/step - loss: 3.4001e-04\n",
            "Epoch 45/50\n",
            "1/1 [==============================] - 0s 1ms/step - loss: 3.3826e-04\n",
            "Epoch 46/50\n",
            "1/1 [==============================] - 0s 1ms/step - loss: 3.3650e-04\n",
            "Epoch 47/50\n",
            "1/1 [==============================] - 0s 1ms/step - loss: 3.3475e-04\n",
            "Epoch 48/50\n",
            "1/1 [==============================] - 0s 1ms/step - loss: 3.3301e-04\n",
            "Epoch 49/50\n",
            "1/1 [==============================] - 0s 2ms/step - loss: 3.3129e-04\n",
            "Epoch 50/50\n",
            "1/1 [==============================] - 0s 1ms/step - loss: 3.2959e-04\n"
          ],
          "name": "stdout"
        }
      ]
    },
    {
      "cell_type": "code",
      "metadata": {
        "id": "q-I1Kc616w66",
        "outputId": "9ae5d4b3-1572-479c-e6f9-125ad00a7d08",
        "colab": {
          "base_uri": "https://localhost:8080/"
        }
      },
      "source": [
        "model.summary()\n",
        "\n"
      ],
      "execution_count": null,
      "outputs": [
        {
          "output_type": "stream",
          "text": [
            "Model: \"sequential\"\n",
            "_________________________________________________________________\n",
            "Layer (type)                 Output Shape              Param #   \n",
            "=================================================================\n",
            "dense (Dense)                (None, 1)                 2         \n",
            "_________________________________________________________________\n",
            "keras_layer (KerasLayer)     (None, 1)                 9         \n",
            "_________________________________________________________________\n",
            "dense_1 (Dense)              (None, 1)                 2         \n",
            "=================================================================\n",
            "Total params: 13\n",
            "Trainable params: 13\n",
            "Non-trainable params: 0\n",
            "_________________________________________________________________\n"
          ],
          "name": "stdout"
        }
      ]
    },
    {
      "cell_type": "code",
      "metadata": {
        "id": "DWFhlUp-f9Kg",
        "outputId": "c1a94d44-fcd5-41ac-8078-ec2087614319",
        "colab": {
          "base_uri": "https://localhost:8080/",
          "height": 295
        }
      },
      "source": [
        "# summarize history for loss\n",
        "plt.plot(history.history['loss'])\n",
        "plt.title('model loss')\n",
        "plt.ylabel('loss')\n",
        "plt.xlabel('epoch')\n",
        "plt.legend(['train'], loc='upper left')\n",
        "plt.show()"
      ],
      "execution_count": null,
      "outputs": [
        {
          "output_type": "display_data",
          "data": {
            "image/png": "[encoded data removed]",
            "text/plain": [
              "<Figure size 432x288 with 1 Axes>"
            ]
          },
          "metadata": {
            "tags": [],
            "needs_background": "light"
          }
        }
      ]
    },
    {
      "cell_type": "code",
      "metadata": {
        "id": "tl7_fwTClmgI",
        "outputId": "3dc134f6-1d0e-481b-c47d-c34d0fa5fd95",
        "colab": {
          "base_uri": "https://localhost:8080/"
        }
      },
      "source": [
        "pred = model.predict(x)\n",
        "\n",
        "pred\n",
        "\n",
        "scale_y.inverse_transform(pred)\n",
        "\n"
      ],
      "execution_count": null,
      "outputs": [
        {
          "output_type": "execute_result",
          "data": {
            "text/plain": [
              "array([[31.372728],\n",
              "       [45.06321 ],\n",
              "       [59.33741 ],\n",
              "       [73.849434],\n",
              "       [98.333855]], dtype=float32)"
            ]
          },
          "metadata": {
            "tags": []
          },
          "execution_count": 19
        }
      ]
    },
    {
      "cell_type": "markdown",
      "metadata": {
        "id": "QlhnkxEepJt2"
      },
      "source": [
        "You could try different learning rates, try removing layers, using scaling or not etc."
      ]
    },
    {
      "cell_type": "markdown",
      "metadata": {
        "id": "9VwD_Q1wpJrp"
      },
      "source": []
    }
  ]
}